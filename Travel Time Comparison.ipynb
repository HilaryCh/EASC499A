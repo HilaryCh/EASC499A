{
 "cells": [
  {
   "cell_type": "code",
   "execution_count": 1,
   "metadata": {},
   "outputs": [],
   "source": [
    "%matplotlib notebook\n",
    "import sys \n",
    "sys.path.append(\"/Users/Hilary/Documents/Github/Py-NnK/scan\")\n",
    "sys.path.append(\"/Users/Hilary/Documents/Data/DataIceland\")\n",
    "\n",
    "import obspy\n",
    "import matplotlib.pyplot as plt\n",
    "import EQ\n",
    "import numpy as np\n",
    "from obspy import read\n",
    "#from matplotlib import gridspec \n",
    "import glob, os\n",
    "from obspy.geodetics.base import calc_vincenty_inverse\n",
    "from scipy.optimize import curve_fit\n",
    "from TravelTime import *\n",
    "def e_fit(x, a, b, c):\n",
    "    return a * np.exp(-b * x) +c"
   ]
  },
  {
   "cell_type": "code",
   "execution_count": 2,
   "metadata": {},
   "outputs": [],
   "source": [
    "# Read a single event (with all the 18 stations)\n",
    "stm = read(\"/Users/Hilary/Documents/Github/Data/DataIceland/20101221012407/*.sac\")\n",
    "# Event(source) location\n",
    "ev_loc=EQ.single_ev_loc(stm)\n",
    "evla=ev_loc[0]\n",
    "evlo=ev_loc[1]\n",
    "evdp=ev_loc[2]\n",
    "# Station location \n",
    "st_loc=EQ.st_loc(stm)  \n",
    "st_dis_in_m=[]\n",
    "dis=[]\n",
    "for i in range(len(stm)//3):   # Convert distance between stations and source from degrees to meters\n",
    "    st_name = st_loc[2][i]\n",
    "    distance= calc_vincenty_inverse(st_loc[0][i], st_loc[1][i], ev_loc[0], ev_loc[1])[0]\n",
    "    dis.append(distance)\n",
    "    st_dis_in_m.append([st_name, distance])"
   ]
  },
  {
   "cell_type": "markdown",
   "metadata": {},
   "source": [
    "## Travel Time from 2D Finite-Difference(FD) Simulation"
   ]
  },
  {
   "cell_type": "code",
   "execution_count": 3,
   "metadata": {},
   "outputs": [],
   "source": [
    "# Simple finite difference solver \n",
    "# Acoustic wave equation  p_tt = c^2 p_xx + src\n",
    "# 2-D regular grid\n",
    "\n",
    "nx = 700      # grid points in x \n",
    "nza = 2\n",
    "nzg = 500\n",
    "nz = nza+nzg      # grid points in z\n",
    "nt = 1300      # number of time steps\n",
    "dx = 100.0     # grid increment in x\n",
    "dt = 0.005    # Time step\n",
    "#c0 = 4500       # velocity (can be an array)\n",
    "ca = 340\n",
    "f0 = 5.0    # dominant frequency of source (Hz)\n",
    "isx = nx//2  # source index x \n",
    "isz = nza + int(round(evdp*1000/dx))  # source index z\n",
    "ist = 4./f0     # shifting of source time function\n",
    "isnap = 10     # snapshot frequency\n",
    "T = 1.0 / f0  # dominant period\n",
    "nop = 5       # length of operator\n",
    "\n",
    "# Receiver locations ######################################################\n",
    "irx=np.array([],dtype=int)\n",
    "for i in range(len(st_dis_in_m)):\n",
    "    r = round(st_dis_in_m[i][1]/100)+ isx\n",
    "    irx=np.append(irx,r)\n",
    "irz= nza+np.zeros_like(irx)\n",
    "seis = np.zeros((len(irx), nt))\n",
    "\n",
    "# Initialize pressure at different time steps and the second ##############\n",
    "# derivatives in each direction\n",
    "p = np.zeros((nz, nx))\n",
    "pold = np.zeros((nz, nx))\n",
    "pnew = np.zeros((nz, nx))\n",
    "pxx = np.zeros((nz, nx))\n",
    "pzz = np.zeros((nz, nx))"
   ]
  },
  {
   "cell_type": "code",
   "execution_count": 4,
   "metadata": {},
   "outputs": [],
   "source": [
    "# Get parameters by fitting model provided by Tryggvason et al 2002\n",
    "model_dep = np.array([  0,   2,   4,   6,   9,  12,  16,  21,  32])\n",
    "model_vel = np.array([3.6, 5.6, 6.4, 6.6, 6.7, 6.8, 7.0, 7.1, 7.4])\n",
    "Z1, pcov = curve_fit(e_fit, model_dep[0:4], model_vel[0:4])\n",
    "Z3 = np.polyfit(model_dep[3:], model_vel[3:], 1)\n",
    "\n",
    "model_type = \"Tryggvason et al 2002\"  \n",
    "\n",
    "# Initialize velocity model\n",
    "c = np.zeros((nz, nx))\n",
    "for i in range(0, nza):\n",
    "    c[i,:] += ca\n",
    "if model_type == \"homogeneous\":                    \n",
    "    for i in range(0, nzg):\n",
    "        c[nza+i,:] += c0\n",
    "elif model_type == \"increase linearly with depth\": \n",
    "    for i in range(0, nzg):\n",
    "        vmax=Z3[0]*(nzg)*dx+ 6.590\n",
    "        vmin=Z1[0]+Z1[2]\n",
    "        c[nza+i,:] += vmin+(vmax-vmin) * ( i/(nzg-1) )\n",
    "elif model_type == \"Tryggvason et al 2002\":       \n",
    "    for i in range(0,44):                     #   0 ~ 4.3km: (Zone1) P velocity increases exponentially\n",
    "        c[nza+i,:] = 1000* (Z1[0] * np.exp(-Z1[1] * i*dx/1000) +Z1[2])\n",
    "    for i in range(44, 60):                 # 4.4 ~ 5.9km: (Zone2) interpolation between Zone 1&2 \n",
    "        dp=model_dep[2:4]                   # 4.4km: v=6440m/s\n",
    "        vp=model_vel[2:4]\n",
    "        c[nza+i,:] = 1000* np.interp(i*dx/1000, dp,vp)  \n",
    "    for i in range(60, nzg):                     # 6.0 ~bottom: (Zone3) linear increase (get param 6590 by observation of data)\n",
    "        c[nza+i,:] = 1000* (Z3[0]*(i-59)*dx/1000+ 6.590)\n",
    "    \n",
    "else:\n",
    "    raise NotImplementedError\n",
    "    \n",
    "cmax = c.max()"
   ]
  },
  {
   "cell_type": "code",
   "execution_count": null,
   "metadata": {},
   "outputs": [
    {
     "name": "stdout",
     "output_type": "stream",
     "text": [
      "Courant Criterion eps :\n",
      "0.397571748878924\n"
     ]
    }
   ],
   "source": [
    "# Source time function Gaussian, nt + 1 as we loose the last one by diff\n",
    "src = np.empty(nt + 1)\n",
    "time = np.linspace(0 * dt, nt * dt, nt)\n",
    "src  = -200. * (time - ist) * (f0 ** 2) * (np.exp(-1.0 * (f0 ** 2) * (time - ist) ** 2))\n",
    "\n",
    "v = max([np.abs(src.min()), np.abs(src.max())])\n",
    "\n",
    "# required for seismograms\n",
    "ir = np.arange(len(irx))\n",
    "\n",
    "# Output Courant criterion\n",
    "print(\"Courant Criterion eps :\")\n",
    "print(cmax*dt/dx)\n",
    "\n",
    "# Time extrapolation\n",
    "for it in range(nt):\n",
    "    if nop==3:\n",
    "        # calculate partial derivatives, be careful around the boundaries\n",
    "        for i in range(1, nx - 1):\n",
    "            pzz[:, i] = p[:, i + 1] - 2 * p[:, i] + p[:, i - 1]\n",
    "        for j in range(1, nz - 1):\n",
    "            pxx[j, :] = p[j - 1, :] - 2 * p[j, :] + p[j + 1, :]\n",
    "\n",
    "    if nop==5:\n",
    "        # calculate partial derivatives, be careful around the boundaries\n",
    "        for i in range(2, nx - 2):\n",
    "            pzz[:, i] = -1./12*p[:,i+2]+4./3*p[:,i+1]-5./2*p[:,i]+4./3*p[:,i-1]-1./12*p[:,i-2]\n",
    "        for j in range(2, nz - 2):\n",
    "            pxx[j, :] = -1./12*p[j+2,:]+4./3*p[j+1,:]-5./2*p[j,:]+4./3*p[j-1,:]-1./12*p[j-2,:]\n",
    "                                \n",
    "    pxx /= dx ** 2\n",
    "    pzz /= dx ** 2\n",
    "\n",
    "    # Time extrapolation\n",
    "    pnew = 2 * p - pold + dt ** 2 * c ** 2 * (pxx + pzz)\n",
    "    # Add source term at isx, isz\n",
    "    pnew[isz, isx] = pnew[isz, isx] + src[it]\n",
    "    pold, p = p, pnew\n",
    "\n",
    "    # Save seismograms\n",
    "    seis[ir, it] = p[irz[ir], irx[ir]]"
   ]
  },
  {
   "cell_type": "code",
   "execution_count": null,
   "metadata": {},
   "outputs": [],
   "source": [
    "# Get the time where minimum slope occurs\n",
    "t_fd=[]\n",
    "for i in range(0,len(seis)):\n",
    "    t_fd.append(np.argmin(np.diff(seis[i]))*dt-ist)\n",
    "    \n",
    "# Save data to file\n",
    "with open(\"tt_2D_FD_alphabetical.txt\", \"w\") as tt_2D_FD:\n",
    "    for tt in t_fd:\n",
    "        tt_2D_FD.write(\"%f\\n\" % tt)   "
   ]
  },
  {
   "cell_type": "markdown",
   "metadata": {},
   "source": [
    "## Travel Time from SAC Attributes and Correlation Picker"
   ]
  },
  {
   "cell_type": "code",
   "execution_count": null,
   "metadata": {},
   "outputs": [],
   "source": [
    "t_sac=TravelTime_SAC(stm)\n",
    "with open(\"tt_sac_alphabetical.txt\", \"w\") as tt_sac_att:\n",
    "    for tt in t_sac:\n",
    "        tt_sac_att.write(\"%f\\n\" % tt)"
   ]
  },
  {
   "cell_type": "code",
   "execution_count": null,
   "metadata": {},
   "outputs": [],
   "source": [
    "t_cor=TravelTime_Correlate(stm,hp=10,lp=49)\n",
    "with open(\"tt_cor_hp10_alphabetical.txt\", \"w\") as tt_cor:\n",
    "    for tt in t_cor:\n",
    "        tt_cor.write(\"%f\\n\" % tt)"
   ]
  },
  {
   "cell_type": "markdown",
   "metadata": {},
   "source": [
    "## Sorting Data and Plotting"
   ]
  },
  {
   "cell_type": "code",
   "execution_count": null,
   "metadata": {},
   "outputs": [],
   "source": [
    "import copy\n",
    "st_tt = copy.deepcopy(st_dis_in_m)\n",
    "for i in range(len(st_tt)):\n",
    "    st_tt[i].append(t_sac[i])\n",
    "    st_tt[i].append(t_cor[i])\n",
    "    st_tt[i].append(t_fd[i])"
   ]
  },
  {
   "cell_type": "code",
   "execution_count": null,
   "metadata": {},
   "outputs": [],
   "source": [
    "st_tt_sorted=sorted(st_tt, key=lambda x: x[1])  # Sort the list by x[1](x distance)\n",
    "st_name=[]\n",
    "dis=[]\n",
    "tt_a=[]\n",
    "tt_c=[]\n",
    "tt_f=[]\n",
    "for i in range(len(st_tt)):\n",
    "    st_name.append(st_tt_sorted[i][0])\n",
    "    dis.append(st_tt_sorted[i][1])\n",
    "    tt_a.append(st_tt_sorted[i][2])\n",
    "    tt_c.append(st_tt_sorted[i][3])\n",
    "    tt_f.append(st_tt_sorted[i][4])"
   ]
  },
  {
   "cell_type": "code",
   "execution_count": null,
   "metadata": {},
   "outputs": [],
   "source": [
    "# Filter out outliers in the correlation method\n",
    "tt_c = np.asarray(tt_c)\n",
    "tt_c[np.logical_or(tt_c<0, tt_c>7)] = np.nan"
   ]
  },
  {
   "cell_type": "code",
   "execution_count": null,
   "metadata": {},
   "outputs": [],
   "source": [
    "fig, ax = plt.subplots()\n",
    "plt.plot(dis, tt_a,'o-',label='Sac Attributes')\n",
    "plt.plot(dis, tt_c,'o-',label='Correlation Pick')\n",
    "plt.plot(dis, tt_f,'o-',label='2D FD Simulation')\n",
    "plt.legend()\n",
    "plt.xlabel('Distance from Epicenter (m)')\n",
    "plt.ylabel('Travel Time (s)')\n",
    "plt.title('Travel Time Curve')\n",
    "for i,name in enumerate(st_name):\n",
    "    plt.annotate(name,(dis[i],tt_a[i]),xytext=(10,-7), textcoords='offset points')"
   ]
  },
  {
   "cell_type": "markdown",
   "metadata": {},
   "source": [
    "Conclusion: 2D FD simulation with 1D velocity model is enough. "
   ]
  },
  {
   "cell_type": "markdown",
   "metadata": {},
   "source": [
    "Analysis of slowness is used rather than travel time. It's a much proper function to analysis."
   ]
  },
  {
   "cell_type": "markdown",
   "metadata": {},
   "source": [
    "Increase src freqency from 2Hz to 5Hz shows a better fit between tt_sac and tt_2dFD at larger distance.\n",
    "The thickness of the air layer doesn't matter.\n",
    "Change nop from 3 to 5 improve the fitting of closer distances but decrease the fitting of larger distances. "
   ]
  },
  {
   "cell_type": "code",
   "execution_count": null,
   "metadata": {},
   "outputs": [],
   "source": []
  }
 ],
 "metadata": {
  "kernelspec": {
   "display_name": "Python 3",
   "language": "python",
   "name": "python3"
  },
  "language_info": {
   "codemirror_mode": {
    "name": "ipython",
    "version": 3
   },
   "file_extension": ".py",
   "mimetype": "text/x-python",
   "name": "python",
   "nbconvert_exporter": "python",
   "pygments_lexer": "ipython3",
   "version": "3.6.5"
  }
 },
 "nbformat": 4,
 "nbformat_minor": 2
}
